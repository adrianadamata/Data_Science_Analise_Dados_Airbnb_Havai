{
  "nbformat": 4,
  "nbformat_minor": 0,
  "metadata": {
    "colab": {
      "name": "Analisando_os_Dados_do_Airbnb.havai",
      "provenance": [],
      "collapsed_sections": [],
      "toc_visible": true,
      "include_colab_link": true
    },
    "kernelspec": {
      "name": "python3",
      "display_name": "Python 3"
    }
  },
  "cells": [
    {
      "cell_type": "markdown",
      "metadata": {
        "id": "view-in-github",
        "colab_type": "text"
      },
      "source": [
        "<a href=\"https://colab.research.google.com/github/adrianadamata/Data_Science_Analise_Dados_Airbnb_Havai/blob/master/Analisando_os_Dados_do_Airbnb_havai.ipynb\" target=\"_parent\"><img src=\"https://colab.research.google.com/assets/colab-badge.svg\" alt=\"Open In Colab\"/></a>"
      ]
    },
    {
      "cell_type": "markdown",
      "metadata": {
        "id": "kLI0gJtzDGuQ",
        "colab_type": "text"
      },
      "source": [
        "<center><img src=\"http://sigmoidal.ai/wp-content/uploads/2019/08/logo_color.png\" height=\"40px\"></center>\n",
        "\n",
        "# Análise dos Dados do Airbnb - Havaí - EUA\n",
        "\n",
        "A primeira versão do [Airbnb](https://www.airbnb.com.br/) foi lançada com apenas uma casa disponível para aluguel, a casa dos próprios criadores do site!\n",
        "A ideia de alugar um imóvel se expandiu! Hoje, a empresa se entitula como uma rede de economia compartilhada em todo o mundo.\n",
        "\n",
        "Já não são apenas imóveis cadastrados. A ideia é permitir que qualquer item ocioso possa ser disponibilizado para aluguel. E a Startup cresce cada vez mais, ganhando destaque mundial.\n",
        "\n",
        "Como iniciativa, a empresa disponibiliza os dados sobre algumas cidades do mundo no [Inside Airbnb](http://insideairbnb.com/get-the-data.html), a fim de viabilizar discussões públicas e análise dos dados para possíveis soluções de *Data Science*.\n",
        "\n",
        "<center><img alt=\"Analisando Airbnb\" width=\"10%\" src=\"https://www.area360.com.au/wp-content/uploads/2017/09/airbnb-logo.jpg\"></center>\n",
        "\n",
        "**Neste *notebook*, serão analisados os dados referentes ao Estado Americano do Havaí, e ver quais insights podem ser extraídos a partir de dados brutos.**"
      ]
    },
    {
      "cell_type": "markdown",
      "metadata": {
        "id": "0zxQHhIUDF_2",
        "colab_type": "text"
      },
      "source": [
        "## Obtenção dos Dados\n"
      ]
    },
    {
      "cell_type": "code",
      "metadata": {
        "id": "Vhp2wMPgJ6zX",
        "colab_type": "code",
        "colab": {}
      },
      "source": [
        "# importar os pacotes necessarios\n",
        "import pandas as pd\n",
        "import matplotlib.pyplot as plt\n",
        "import seaborn as sns\n",
        "\n",
        "%matplotlib inline"
      ],
      "execution_count": 0,
      "outputs": []
    },
    {
      "cell_type": "code",
      "metadata": {
        "id": "tUmoAT8DLQ5T",
        "colab_type": "code",
        "colab": {}
      },
      "source": [
        "# importar o arquivo listings.csv para um DataFrame\n",
        "df = pd.read_csv(\"http://data.insideairbnb.com/united-states/hi/hawaii/2019-12-04/visualisations/listings.csv\")"
      ],
      "execution_count": 0,
      "outputs": []
    },
    {
      "cell_type": "markdown",
      "metadata": {
        "id": "qb5By2nIMS6m",
        "colab_type": "text"
      },
      "source": [
        "## Análise dos Dados\n",
        "Para a compreensão do problema é preciso conhecer os significados de cada variável. Para isso, estão listados abaixo os significados das variáveis presentes no arquivo de dados baixado na linha de código anterior, representado por **df**.\n"
      ]
    },
    {
      "cell_type": "markdown",
      "metadata": {
        "id": "RYgvuebKNg8-",
        "colab_type": "text"
      },
      "source": [
        "**Dicionário das variáveis**\n",
        "\n",
        "* `id` - número de id gerado para identificar o imóvel\n",
        "* `name` - nome da propriedade anunciada\n",
        "* `host_id` - número de id do proprietário (anfitrião) da propriedade\n",
        "* `host_name` - nome do anfitrião\n",
        "* `neighbourhood_group` - nome do Condado ao qual pertence o Distrito\n",
        "* `neighbourhood` - nome do Distrito\n",
        "* `latitude` - coordenada da latitude da propriedade\n",
        "* `longitude` - coordenada da longitude da propriedade\n",
        "* `room_type` - informa o tipo de quarto que é oferecido\n",
        "* `price` - preço para alugar o imóvel\n",
        "* `minimum_nights` - quantidade mínima de noites para reservar\n",
        "* `number_of_reviews` - número de avaliações que a propriedade possui\n",
        "* `last_review` - data da última avaliação\n",
        "* `reviews_per_month` - quantidade de avaliações por mês\n",
        "* `calculated_host_listings_count` - quantidade de imóveis do mesmo anfitrião\n",
        "* `availability_365` - número de dias de disponibilidade dentro de 365 dias\n",
        "\n",
        "Antes de iniciar qualquer análise, vamos verificar a cara do nosso *dataset*, analisando as 5 primeiras entradas."
      ]
    },
    {
      "cell_type": "code",
      "metadata": {
        "id": "2iS_dae7YQtO",
        "colab_type": "code",
        "outputId": "eed6ea9a-ad87-4249-aa61-6f853d718911",
        "colab": {
          "base_uri": "https://localhost:8080/",
          "height": 411
        }
      },
      "source": [
        "# mostrar as 5 primeiras entradas\n",
        "df.head()"
      ],
      "execution_count": 0,
      "outputs": [
        {
          "output_type": "execute_result",
          "data": {
            "text/html": [
              "<div>\n",
              "<style scoped>\n",
              "    .dataframe tbody tr th:only-of-type {\n",
              "        vertical-align: middle;\n",
              "    }\n",
              "\n",
              "    .dataframe tbody tr th {\n",
              "        vertical-align: top;\n",
              "    }\n",
              "\n",
              "    .dataframe thead th {\n",
              "        text-align: right;\n",
              "    }\n",
              "</style>\n",
              "<table border=\"1\" class=\"dataframe\">\n",
              "  <thead>\n",
              "    <tr style=\"text-align: right;\">\n",
              "      <th></th>\n",
              "      <th>id</th>\n",
              "      <th>name</th>\n",
              "      <th>host_id</th>\n",
              "      <th>host_name</th>\n",
              "      <th>neighbourhood_group</th>\n",
              "      <th>neighbourhood</th>\n",
              "      <th>latitude</th>\n",
              "      <th>longitude</th>\n",
              "      <th>room_type</th>\n",
              "      <th>price</th>\n",
              "      <th>minimum_nights</th>\n",
              "      <th>number_of_reviews</th>\n",
              "      <th>last_review</th>\n",
              "      <th>reviews_per_month</th>\n",
              "      <th>calculated_host_listings_count</th>\n",
              "      <th>availability_365</th>\n",
              "    </tr>\n",
              "  </thead>\n",
              "  <tbody>\n",
              "    <tr>\n",
              "      <th>0</th>\n",
              "      <td>5065</td>\n",
              "      <td>MAUKA BB</td>\n",
              "      <td>7257</td>\n",
              "      <td>Wayne</td>\n",
              "      <td>Hawaii</td>\n",
              "      <td>Hamakua</td>\n",
              "      <td>20.04095</td>\n",
              "      <td>-155.43251</td>\n",
              "      <td>Entire home/apt</td>\n",
              "      <td>85</td>\n",
              "      <td>2</td>\n",
              "      <td>37</td>\n",
              "      <td>2019-08-19</td>\n",
              "      <td>0.45</td>\n",
              "      <td>2</td>\n",
              "      <td>359</td>\n",
              "    </tr>\n",
              "    <tr>\n",
              "      <th>1</th>\n",
              "      <td>5269</td>\n",
              "      <td>Upcountry Hospitality in the 'Auwai Suite</td>\n",
              "      <td>7620</td>\n",
              "      <td>Lea &amp; Pat</td>\n",
              "      <td>Hawaii</td>\n",
              "      <td>South Kohala</td>\n",
              "      <td>20.02621</td>\n",
              "      <td>-155.70145</td>\n",
              "      <td>Entire home/apt</td>\n",
              "      <td>110</td>\n",
              "      <td>2</td>\n",
              "      <td>9</td>\n",
              "      <td>2019-10-20</td>\n",
              "      <td>0.09</td>\n",
              "      <td>5</td>\n",
              "      <td>251</td>\n",
              "    </tr>\n",
              "    <tr>\n",
              "      <th>2</th>\n",
              "      <td>5387</td>\n",
              "      <td>Hale Koa Studio &amp; 1 Bedroom Units!!</td>\n",
              "      <td>7878</td>\n",
              "      <td>Edward</td>\n",
              "      <td>Hawaii</td>\n",
              "      <td>South Kona</td>\n",
              "      <td>19.43119</td>\n",
              "      <td>-155.88079</td>\n",
              "      <td>Entire home/apt</td>\n",
              "      <td>92</td>\n",
              "      <td>5</td>\n",
              "      <td>162</td>\n",
              "      <td>2019-11-19</td>\n",
              "      <td>1.36</td>\n",
              "      <td>3</td>\n",
              "      <td>282</td>\n",
              "    </tr>\n",
              "    <tr>\n",
              "      <th>3</th>\n",
              "      <td>5389</td>\n",
              "      <td>Keauhou Villa</td>\n",
              "      <td>7878</td>\n",
              "      <td>Edward</td>\n",
              "      <td>Hawaii</td>\n",
              "      <td>North Kona</td>\n",
              "      <td>19.56413</td>\n",
              "      <td>-155.96347</td>\n",
              "      <td>Entire home/apt</td>\n",
              "      <td>299</td>\n",
              "      <td>6</td>\n",
              "      <td>17</td>\n",
              "      <td>2019-11-21</td>\n",
              "      <td>0.23</td>\n",
              "      <td>3</td>\n",
              "      <td>217</td>\n",
              "    </tr>\n",
              "    <tr>\n",
              "      <th>4</th>\n",
              "      <td>5390</td>\n",
              "      <td>STAY AT PRINCE KUHIO!</td>\n",
              "      <td>7887</td>\n",
              "      <td>Todd</td>\n",
              "      <td>Kauai</td>\n",
              "      <td>Koloa-Poipu</td>\n",
              "      <td>21.88305</td>\n",
              "      <td>-159.47372</td>\n",
              "      <td>Entire home/apt</td>\n",
              "      <td>92</td>\n",
              "      <td>3</td>\n",
              "      <td>130</td>\n",
              "      <td>2019-11-18</td>\n",
              "      <td>1.01</td>\n",
              "      <td>1</td>\n",
              "      <td>170</td>\n",
              "    </tr>\n",
              "  </tbody>\n",
              "</table>\n",
              "</div>"
            ],
            "text/plain": [
              "     id  ... availability_365\n",
              "0  5065  ...              359\n",
              "1  5269  ...              251\n",
              "2  5387  ...              282\n",
              "3  5389  ...              217\n",
              "4  5390  ...              170\n",
              "\n",
              "[5 rows x 16 columns]"
            ]
          },
          "metadata": {
            "tags": []
          },
          "execution_count": 32
        }
      ]
    },
    {
      "cell_type": "markdown",
      "metadata": {
        "id": "Hx4N5XWxqGz8",
        "colab_type": "text"
      },
      "source": [
        "Os distritos do Havaí com imóveis cadastrados no Airbnb são:"
      ]
    },
    {
      "cell_type": "code",
      "metadata": {
        "id": "7v23P3zEpSW_",
        "colab_type": "code",
        "outputId": "0b9e9517-ac36-4e3e-fdf1-9dffea443ec0",
        "colab": {
          "base_uri": "https://localhost:8080/",
          "height": 153
        }
      },
      "source": [
        "df['neighbourhood'].unique()"
      ],
      "execution_count": 0,
      "outputs": [
        {
          "output_type": "execute_result",
          "data": {
            "text/plain": [
              "array(['Hamakua', 'South Kohala', 'South Kona', 'North Kona',\n",
              "       'Koloa-Poipu', 'North Shore Kauai', 'Puna', 'Kihei-Makena',\n",
              "       'North Shore Oahu', 'Koolaupoko', 'Lahaina',\n",
              "       'Primary Urban Center', 'South Hilo', 'Paia-Haiku', 'Kapaa-Wailua',\n",
              "       'Waianae', 'East Honolulu', 'Koolauloa', 'Ewa', 'North Kohala',\n",
              "       'Waimea-Kekaha', 'Molokai', 'Wailuku-Kahului', 'Kau',\n",
              "       'Makawao-Pukalani-Kula', 'Lihue', 'North Hilo', 'Hana',\n",
              "       'Central Oahu', 'Lanai'], dtype=object)"
            ]
          },
          "metadata": {
            "tags": []
          },
          "execution_count": 33
        }
      ]
    },
    {
      "cell_type": "markdown",
      "metadata": {
        "id": "6-B_qtEaYEd-",
        "colab_type": "text"
      },
      "source": [
        "### **Q1. Quantos atributos (variáveis) e quantas entradas o nosso conjunto de dados possui? Quais os tipos das variáveis?**\n",
        "Essse dataset baixado é uma versão resumida do Airbnb, o arquivo `listings.csv`. Possui 16 `variáveis` para cada imóvel e 23840 `entradas` que correspondem à quantidade de imóveis anunciados.\n"
      ]
    },
    {
      "cell_type": "code",
      "metadata": {
        "id": "TFRK0tniLV-G",
        "colab_type": "code",
        "outputId": "221117fb-1694-4285-86c4-a85f8f47f9d8",
        "colab": {
          "base_uri": "https://localhost:8080/",
          "height": 340
        }
      },
      "source": [
        "# identificar o volume de dados do DataFrame\n",
        "print(\"Variáveis: \\t {}\".format(df.shape[1]))\n",
        "print(\"Entradas: \\t {}\".format(df.shape[0]))\n",
        "\n",
        "# verificar os tipos de dados de cada entrada do dataset\n",
        "display(df.dtypes)"
      ],
      "execution_count": 0,
      "outputs": [
        {
          "output_type": "stream",
          "text": [
            "Variáveis: \t 16\n",
            "Entradas: \t 23745\n"
          ],
          "name": "stdout"
        },
        {
          "output_type": "display_data",
          "data": {
            "text/plain": [
              "id                                  int64\n",
              "name                               object\n",
              "host_id                             int64\n",
              "host_name                          object\n",
              "neighbourhood_group                object\n",
              "neighbourhood                      object\n",
              "latitude                          float64\n",
              "longitude                         float64\n",
              "room_type                          object\n",
              "price                               int64\n",
              "minimum_nights                      int64\n",
              "number_of_reviews                   int64\n",
              "last_review                        object\n",
              "reviews_per_month                 float64\n",
              "calculated_host_listings_count      int64\n",
              "availability_365                    int64\n",
              "dtype: object"
            ]
          },
          "metadata": {
            "tags": []
          }
        }
      ]
    },
    {
      "cell_type": "markdown",
      "metadata": {
        "id": "yz1urSUGW9iE",
        "colab_type": "text"
      },
      "source": [
        "### **Q2. Qual a porcentagem de valores ausentes no *dataset*?**\n",
        "A quantidade de campos nulos influencia o resultado das análises de um dataset. Os campos nulos não possuem alocação de endereço na memória e tenativas de concatenação podem dar de endereço. Portanto, analisando os valores ausentes podemos ficar atentos:\n",
        "* As variáves `reviews_per_month` e `last_review` são as que possuem a porcentagem mais alta de campos ausentes, com aproximadamente 23% de entradas nulas;\n",
        "* A variável `host_name` possui 1,16% de valores ausentes;\n",
        "* E a variável `name` apresenta porcentagem baixa de campos nulos com 0,07%\n",
        "* As demais variáveis não apresentam valores ausentes, com uma maior quantidade de dados de entrada."
      ]
    },
    {
      "cell_type": "code",
      "metadata": {
        "id": "plk2FjbCXOqP",
        "colab_type": "code",
        "outputId": "04d3d398-1d7c-4edc-8126-947378b3a0d1",
        "colab": {
          "base_uri": "https://localhost:8080/",
          "height": 306
        }
      },
      "source": [
        "# ordenar em ordem decrescente as variáveis por seus valores ausentes\n",
        "(df.isnull().sum() / df.shape[0]).sort_values(ascending = False)"
      ],
      "execution_count": 0,
      "outputs": [
        {
          "output_type": "execute_result",
          "data": {
            "text/plain": [
              "reviews_per_month                 0.229564\n",
              "last_review                       0.229564\n",
              "host_name                         0.011623\n",
              "name                              0.000674\n",
              "availability_365                  0.000000\n",
              "calculated_host_listings_count    0.000000\n",
              "number_of_reviews                 0.000000\n",
              "minimum_nights                    0.000000\n",
              "price                             0.000000\n",
              "room_type                         0.000000\n",
              "longitude                         0.000000\n",
              "latitude                          0.000000\n",
              "neighbourhood                     0.000000\n",
              "neighbourhood_group               0.000000\n",
              "host_id                           0.000000\n",
              "id                                0.000000\n",
              "dtype: float64"
            ]
          },
          "metadata": {
            "tags": []
          },
          "execution_count": 5
        }
      ]
    },
    {
      "cell_type": "markdown",
      "metadata": {
        "id": "iHXvvHIxaoNc",
        "colab_type": "text"
      },
      "source": [
        "### **Q3.a Qual o tipo de distribuição das variáveis?** \n",
        "Para visualizar as variáveis numéricas, serão utilizados os gráficos de histogramas. Através do histograma é possível ver a distribuição das variáveis numéricas."
      ]
    },
    {
      "cell_type": "code",
      "metadata": {
        "id": "q2wWSfeRbmBo",
        "colab_type": "code",
        "outputId": "6cfb1201-3f6d-4466-9351-6218ce7edb7c",
        "colab": {
          "base_uri": "https://localhost:8080/",
          "height": 828
        }
      },
      "source": [
        "# plotar o histograma das variáveis numéricas\n",
        "df.hist(bins=15, figsize=(15,10))"
      ],
      "execution_count": 0,
      "outputs": [
        {
          "output_type": "execute_result",
          "data": {
            "text/plain": [
              "array([[<matplotlib.axes._subplots.AxesSubplot object at 0x7fd7bbe0fb70>,\n",
              "        <matplotlib.axes._subplots.AxesSubplot object at 0x7fd7bab36518>,\n",
              "        <matplotlib.axes._subplots.AxesSubplot object at 0x7fd7baae9ac8>],\n",
              "       [<matplotlib.axes._subplots.AxesSubplot object at 0x7fd7baaa70b8>,\n",
              "        <matplotlib.axes._subplots.AxesSubplot object at 0x7fd7baad5668>,\n",
              "        <matplotlib.axes._subplots.AxesSubplot object at 0x7fd7baa86c18>],\n",
              "       [<matplotlib.axes._subplots.AxesSubplot object at 0x7fd7baa44208>,\n",
              "        <matplotlib.axes._subplots.AxesSubplot object at 0x7fd7ba9f67f0>,\n",
              "        <matplotlib.axes._subplots.AxesSubplot object at 0x7fd7ba9f6828>],\n",
              "       [<matplotlib.axes._subplots.AxesSubplot object at 0x7fd7ba965358>,\n",
              "        <matplotlib.axes._subplots.AxesSubplot object at 0x7fd7ba993908>,\n",
              "        <matplotlib.axes._subplots.AxesSubplot object at 0x7fd7ba945eb8>]],\n",
              "      dtype=object)"
            ]
          },
          "metadata": {
            "tags": []
          },
          "execution_count": 6
        },
        {
          "output_type": "display_data",
          "data": {
            "image/png": "[encoded data removed]",
            "text/plain": [
              "<Figure size 1080x720 with 12 Axes>"
            ]
          },
          "metadata": {
            "tags": []
          }
        }
      ]
    },
    {
      "cell_type": "markdown",
      "metadata": {
        "id": "-0cCON_K1z0F",
        "colab_type": "text"
      },
      "source": [
        "### Q3.b Há outliers presentes?\n",
        "É possível observar que as variáveis `minimum_nights` e `price`, possuem valores que não representam uma distribuição. Para confirmar a presença de outliers, iremos utilizar duas técnicas:\n",
        "* Resumo Estatístico por meio do Método `describe`;\n",
        "* Plotar `boxplots`;"
      ]
    },
    {
      "cell_type": "code",
      "metadata": {
        "id": "8m90UJWwmj14",
        "colab_type": "code",
        "outputId": "bb2ed899-53a6-49fa-fa6a-f0bac3365339",
        "colab": {
          "base_uri": "https://localhost:8080/",
          "height": 297
        }
      },
      "source": [
        "# ver o resumo estatístico das variáveis numéricas\n",
        "df[['availability_365','latitude','longitude','minimum_nights','number_of_reviews','price','reviews_per_month']].describe()"
      ],
      "execution_count": 0,
      "outputs": [
        {
          "output_type": "execute_result",
          "data": {
            "text/html": [
              "<div>\n",
              "<style scoped>\n",
              "    .dataframe tbody tr th:only-of-type {\n",
              "        vertical-align: middle;\n",
              "    }\n",
              "\n",
              "    .dataframe tbody tr th {\n",
              "        vertical-align: top;\n",
              "    }\n",
              "\n",
              "    .dataframe thead th {\n",
              "        text-align: right;\n",
              "    }\n",
              "</style>\n",
              "<table border=\"1\" class=\"dataframe\">\n",
              "  <thead>\n",
              "    <tr style=\"text-align: right;\">\n",
              "      <th></th>\n",
              "      <th>availability_365</th>\n",
              "      <th>latitude</th>\n",
              "      <th>longitude</th>\n",
              "      <th>minimum_nights</th>\n",
              "      <th>number_of_reviews</th>\n",
              "      <th>price</th>\n",
              "      <th>reviews_per_month</th>\n",
              "    </tr>\n",
              "  </thead>\n",
              "  <tbody>\n",
              "    <tr>\n",
              "      <th>count</th>\n",
              "      <td>23745.000000</td>\n",
              "      <td>23745.000000</td>\n",
              "      <td>23745.000000</td>\n",
              "      <td>23745.000000</td>\n",
              "      <td>23745.000000</td>\n",
              "      <td>23745.000000</td>\n",
              "      <td>18294.000000</td>\n",
              "    </tr>\n",
              "    <tr>\n",
              "      <th>mean</th>\n",
              "      <td>190.334344</td>\n",
              "      <td>20.881056</td>\n",
              "      <td>-157.128280</td>\n",
              "      <td>5.385597</td>\n",
              "      <td>26.257907</td>\n",
              "      <td>358.380291</td>\n",
              "      <td>1.398526</td>\n",
              "    </tr>\n",
              "    <tr>\n",
              "      <th>std</th>\n",
              "      <td>110.226253</td>\n",
              "      <td>0.790525</td>\n",
              "      <td>1.242902</td>\n",
              "      <td>11.176797</td>\n",
              "      <td>46.780110</td>\n",
              "      <td>936.067258</td>\n",
              "      <td>1.523295</td>\n",
              "    </tr>\n",
              "    <tr>\n",
              "      <th>min</th>\n",
              "      <td>0.000000</td>\n",
              "      <td>18.920990</td>\n",
              "      <td>-159.714900</td>\n",
              "      <td>1.000000</td>\n",
              "      <td>0.000000</td>\n",
              "      <td>0.000000</td>\n",
              "      <td>0.000000</td>\n",
              "    </tr>\n",
              "    <tr>\n",
              "      <th>25%</th>\n",
              "      <td>102.000000</td>\n",
              "      <td>20.690630</td>\n",
              "      <td>-157.837800</td>\n",
              "      <td>1.000000</td>\n",
              "      <td>1.000000</td>\n",
              "      <td>128.000000</td>\n",
              "      <td>0.300000</td>\n",
              "    </tr>\n",
              "    <tr>\n",
              "      <th>50%</th>\n",
              "      <td>219.000000</td>\n",
              "      <td>20.952780</td>\n",
              "      <td>-156.688670</td>\n",
              "      <td>3.000000</td>\n",
              "      <td>7.000000</td>\n",
              "      <td>199.000000</td>\n",
              "      <td>0.880000</td>\n",
              "    </tr>\n",
              "    <tr>\n",
              "      <th>75%</th>\n",
              "      <td>275.000000</td>\n",
              "      <td>21.300390</td>\n",
              "      <td>-156.380400</td>\n",
              "      <td>5.000000</td>\n",
              "      <td>31.000000</td>\n",
              "      <td>340.000000</td>\n",
              "      <td>2.020000</td>\n",
              "    </tr>\n",
              "    <tr>\n",
              "      <th>max</th>\n",
              "      <td>365.000000</td>\n",
              "      <td>22.229110</td>\n",
              "      <td>-154.815770</td>\n",
              "      <td>365.000000</td>\n",
              "      <td>680.000000</td>\n",
              "      <td>24999.000000</td>\n",
              "      <td>22.600000</td>\n",
              "    </tr>\n",
              "  </tbody>\n",
              "</table>\n",
              "</div>"
            ],
            "text/plain": [
              "       availability_365      latitude  ...         price  reviews_per_month\n",
              "count      23745.000000  23745.000000  ...  23745.000000       18294.000000\n",
              "mean         190.334344     20.881056  ...    358.380291           1.398526\n",
              "std          110.226253      0.790525  ...    936.067258           1.523295\n",
              "min            0.000000     18.920990  ...      0.000000           0.000000\n",
              "25%          102.000000     20.690630  ...    128.000000           0.300000\n",
              "50%          219.000000     20.952780  ...    199.000000           0.880000\n",
              "75%          275.000000     21.300390  ...    340.000000           2.020000\n",
              "max          365.000000     22.229110  ...  24999.000000          22.600000\n",
              "\n",
              "[8 rows x 7 columns]"
            ]
          },
          "metadata": {
            "tags": []
          },
          "execution_count": 7
        }
      ]
    },
    {
      "cell_type": "markdown",
      "metadata": {
        "id": "WNh2tKVu2XB0",
        "colab_type": "text"
      },
      "source": [
        "A partir do resumo estatístico acima é possível observar que:\n",
        "* 75% dos imóveis possui o mínimo de noites abaixo de 5 dias, no entanto, o valor máximo de mínimo de noites cadastrado chega a 365 dias;\n",
        "* Na variável preço, a distorção entre a maioria dos dados e o valor máximo também ocorre."
      ]
    },
    {
      "cell_type": "markdown",
      "metadata": {
        "id": "eHZuNTSNrPOj",
        "colab_type": "text"
      },
      "source": [
        "#### Boxplot para `availability_365`"
      ]
    },
    {
      "cell_type": "code",
      "metadata": {
        "id": "f501WgfDsUTW",
        "colab_type": "code",
        "outputId": "68ceae36-2868-4c1f-843e-bf57b2f6e5b6",
        "colab": {
          "base_uri": "https://localhost:8080/",
          "height": 102
        }
      },
      "source": [
        "# availability_365\n",
        "df.availability_365.plot(kind='box', vert=False, figsize=(15, 1))\n",
        "plt.show()"
      ],
      "execution_count": 0,
      "outputs": [
        {
          "output_type": "display_data",
          "data": {
            "image/png": "[encoded data removed]",
            "text/plain": [
              "<Figure size 1080x72 with 1 Axes>"
            ]
          },
          "metadata": {
            "tags": []
          }
        }
      ]
    },
    {
      "cell_type": "markdown",
      "metadata": {
        "id": "Bk478f0hyXVv",
        "colab_type": "text"
      },
      "source": [
        "Não há presença de outliers na variável `availability_365`"
      ]
    },
    {
      "cell_type": "markdown",
      "metadata": {
        "colab_type": "text",
        "id": "PdlpVj6nudPy"
      },
      "source": [
        "#### Boxplot para `minimum_nights`"
      ]
    },
    {
      "cell_type": "code",
      "metadata": {
        "colab_type": "code",
        "outputId": "dc310bf9-33c6-4818-ef3a-9a36c06c2be0",
        "id": "3HE96ZNJwgi2",
        "colab": {
          "base_uri": "https://localhost:8080/",
          "height": 122
        }
      },
      "source": [
        "# minimum_nights\n",
        "df.minimum_nights.plot(kind='box', vert=False, xlim=(0,50), figsize=(15, 1))\n",
        "plt.show()"
      ],
      "execution_count": 0,
      "outputs": [
        {
          "output_type": "display_data",
          "data": {
            "image/png": "[encoded data removed]",
            "text/plain": [
              "<Figure size 1080x72 with 1 Axes>"
            ]
          },
          "metadata": {
            "tags": []
          }
        }
      ]
    },
    {
      "cell_type": "code",
      "metadata": {
        "id": "pBLw-CjLxxQ-",
        "colab_type": "code",
        "cellView": "code",
        "outputId": "1a5c9a12-acbf-4311-c7f1-6db0d1ea9876",
        "colab": {
          "base_uri": "https://localhost:8080/",
          "height": 85
        }
      },
      "source": [
        "# ver quantidade de valores acima de 12 para minimum_nights\n",
        "print(\"\\n: valores acima de 12\")\n",
        "print(\"{} entradas\".format(len(df[df.minimum_nights > 12])))\n",
        "print(\"{:.4f}%\".format((len(df[df.minimum_nights > 12]) / df.shape[0])*100))"
      ],
      "execution_count": 0,
      "outputs": [
        {
          "output_type": "stream",
          "text": [
            "\n",
            ": valores acima de 12\n",
            "1917 entradas\n",
            "8.0733%\n"
          ],
          "name": "stdout"
        }
      ]
    },
    {
      "cell_type": "markdown",
      "metadata": {
        "id": "WBNRavLczf1w",
        "colab_type": "text"
      },
      "source": [
        "Neste caso, verificamos a presença de outliers na variável `minimun_nights`. Há poucas entradas com a característica de mínimo de noites a partir de 12 dias. Estas entradas que correspondem a 8.0733% podem distorcer a distribuição do conjunto de dados."
      ]
    },
    {
      "cell_type": "markdown",
      "metadata": {
        "id": "VvL7fapLzTFB",
        "colab_type": "text"
      },
      "source": [
        "Neste caso, verificamos a presença de outliers na variável minimum_nights"
      ]
    },
    {
      "cell_type": "markdown",
      "metadata": {
        "colab_type": "text",
        "id": "hDg6LksnufUt"
      },
      "source": [
        "#### Boxplot para `number_of_reviews`"
      ]
    },
    {
      "cell_type": "code",
      "metadata": {
        "colab_type": "code",
        "outputId": "39c1bf1e-e960-48c9-ac13-588ffb4bd822",
        "id": "4OetkBCw0Vov",
        "colab": {
          "base_uri": "https://localhost:8080/",
          "height": 122
        }
      },
      "source": [
        "# number_of_reviews\n",
        "df.number_of_reviews.plot(kind='box', vert=False, xlim=([-2,100]), figsize=(15, 1))\n",
        "plt.show()"
      ],
      "execution_count": 0,
      "outputs": [
        {
          "output_type": "display_data",
          "data": {
            "image/png": "[encoded data removed]",
            "text/plain": [
              "<Figure size 1080x72 with 1 Axes>"
            ]
          },
          "metadata": {
            "tags": []
          }
        }
      ]
    },
    {
      "cell_type": "code",
      "metadata": {
        "colab_type": "code",
        "cellView": "code",
        "outputId": "4d66b6b3-3b53-4875-d4c8-5424a7418799",
        "id": "vH0zVNBF2DVl",
        "colab": {
          "base_uri": "https://localhost:8080/",
          "height": 85
        }
      },
      "source": [
        "# ver quantidade de valores acima de 78 para number_of_reviews\n",
        "print(\"\\n: valores acima de 78\")\n",
        "print(\"{} entradas\".format(len(df[df.number_of_reviews > 78])))\n",
        "print(\"{:.4f}%\".format((len(df[df.number_of_reviews > 78]) / df.shape[0])*100))"
      ],
      "execution_count": 0,
      "outputs": [
        {
          "output_type": "stream",
          "text": [
            "\n",
            ": valores acima de 78\n",
            "2331 entradas\n",
            "9.8168%\n"
          ],
          "name": "stdout"
        }
      ]
    },
    {
      "cell_type": "markdown",
      "metadata": {
        "colab_type": "text",
        "id": "7FEu1JbN2dx3"
      },
      "source": [
        "Neste caso, verificamos a presença de outliers na variável `number_of_reviews`. Há poucas entradas com a característica de quantidade de avaliações a partir de 78 avaliações. Estas entradas que correspondem a 9.8168% podem distorcer a distribuição do conjunto de dados. "
      ]
    },
    {
      "cell_type": "markdown",
      "metadata": {
        "colab_type": "text",
        "id": "PLTageSGufhS"
      },
      "source": [
        "#### Boxplot para `price`"
      ]
    },
    {
      "cell_type": "code",
      "metadata": {
        "colab_type": "code",
        "outputId": "abd13255-8ded-4744-a464-a9ab6d00358d",
        "id": "Y5y3qE9nS4Qg",
        "colab": {
          "base_uri": "https://localhost:8080/",
          "height": 102
        }
      },
      "source": [
        "# price\n",
        "df.price.plot(kind='box', vert=False, xlim=([0,1000]), figsize=(15, 1))\n",
        "plt.show()"
      ],
      "execution_count": 0,
      "outputs": [
        {
          "output_type": "display_data",
          "data": {
            "image/png": "[encoded data removed]",
            "text/plain": [
              "<Figure size 1080x72 with 1 Axes>"
            ]
          },
          "metadata": {
            "tags": []
          }
        }
      ]
    },
    {
      "cell_type": "code",
      "metadata": {
        "colab_type": "code",
        "cellView": "code",
        "outputId": "e1f8dfbc-dd5c-4023-819c-75ccef71d890",
        "id": "BTiG9xkIUezz",
        "colab": {
          "base_uri": "https://localhost:8080/",
          "height": 85
        }
      },
      "source": [
        "# ver quantidade de valores acima de 700 para price\n",
        "print(\"\\n: valores acima de 700\")\n",
        "print(\"{} entradas\".format(len(df[df.price > 700])))\n",
        "print(\"{:.4f}%\".format((len(df[df.price > 700]) / df.shape[0])*100))"
      ],
      "execution_count": 0,
      "outputs": [
        {
          "output_type": "stream",
          "text": [
            "\n",
            ": valores acima de 700\n",
            "1752 entradas\n",
            "7.3784%\n"
          ],
          "name": "stdout"
        }
      ]
    },
    {
      "cell_type": "markdown",
      "metadata": {
        "colab_type": "text",
        "id": "swBD0Jr3Uwje"
      },
      "source": [
        "Neste caso, verificamos a presença de outliers na variável `price`. Há poucas entradas com valor da diária a partir de 700 dólares. Estas entradas que correspondem a 7.3784% podem distorcer a distribuição do conjunto de dados.\n"
      ]
    },
    {
      "cell_type": "markdown",
      "metadata": {
        "id": "TfxQ1PITFc5Q",
        "colab_type": "text"
      },
      "source": [
        "#### Histogramas sem *outliers*\n",
        "\n",
        "Foram identicados *outliers* nas variáveis `price` e `minimum_nights`, por isso as entradas com outliers serão eliminadas do *DataFrame* e os histogramas plotados novamente. A variável `number_of_reviews` também apresentou presença de outliers. No entanto, estas entradas não serão removidas pois podem ser excluídos imóveis que fogem da distribuição dos dados justamente por se destacarem com mais de 78 avaliações."
      ]
    },
    {
      "cell_type": "code",
      "metadata": {
        "id": "67JxJ6n_FrTn",
        "colab_type": "code",
        "outputId": "2499395c-1e86-4af6-b44b-4475b51510a1",
        "colab": {
          "base_uri": "https://localhost:8080/",
          "height": 607
        }
      },
      "source": [
        "# remover os *outliers* em um novo DataFrame\n",
        "df_clean = df.copy()\n",
        "df_clean.drop(df_clean[df_clean.price > 700].index, axis=0, inplace=True)\n",
        "df_clean.drop(df_clean[df_clean.minimum_nights > 12].index, axis=0, inplace=True)\n",
        "\n",
        "# plotar o histograma para as variáveis numéricas\n",
        "df_clean.hist(bins=15, figsize=(15,10));"
      ],
      "execution_count": 0,
      "outputs": [
        {
          "output_type": "display_data",
          "data": {
            "image/png": "[encoded data removed]",
            "text/plain": [
              "<Figure size 1080x720 with 12 Axes>"
            ]
          },
          "metadata": {
            "tags": []
          }
        }
      ]
    },
    {
      "cell_type": "markdown",
      "metadata": {
        "id": "7x4aw1j5wNmn",
        "colab_type": "text"
      },
      "source": [
        "### **Q4. Qual a média dos preços de aluguel?**"
      ]
    },
    {
      "cell_type": "markdown",
      "metadata": {
        "id": "KpNX32cu2T2a",
        "colab_type": "text"
      },
      "source": [
        "Em cada Distrito, é possível calcular a média de valores do aluguel. Os valores são agrupados por distrito através do comando `groupby()`"
      ]
    },
    {
      "cell_type": "code",
      "metadata": {
        "id": "ff-8gUahLk-C",
        "colab_type": "code",
        "outputId": "580f45d6-a5e1-4b0b-e3e9-4d4d653efcf0",
        "colab": {
          "base_uri": "https://localhost:8080/",
          "height": 561
        }
      },
      "source": [
        "# ver a média da variável price em cada distrito:\n",
        "df_clean.groupby(['neighbourhood']).price.mean().sort_values(ascending=True)"
      ],
      "execution_count": 0,
      "outputs": [
        {
          "output_type": "execute_result",
          "data": {
            "text/plain": [
              "neighbourhood\n",
              "Kau                      110.298780\n",
              "Puna                     112.864023\n",
              "South Hilo               130.603524\n",
              "Molokai                  147.519481\n",
              "South Kona               148.508091\n",
              "North Kohala             152.313953\n",
              "Waianae                  155.236364\n",
              "Hamakua                  156.376812\n",
              "North Hilo               157.051724\n",
              "Central Oahu             157.804348\n",
              "North Shore Oahu         166.206406\n",
              "Primary Urban Center     179.360264\n",
              "Wailuku-Kahului          187.000000\n",
              "North Kona               193.577402\n",
              "Koolaupoko               205.775000\n",
              "Makawao-Pukalani-Kula    225.500000\n",
              "East Honolulu            226.505263\n",
              "Koolauloa                227.764535\n",
              "Paia-Haiku               232.316239\n",
              "Lihue                    238.099502\n",
              "Kapaa-Wailua             240.262609\n",
              "Waimea-Kekaha            246.321429\n",
              "Lanai                    258.400000\n",
              "Kihei-Makena             263.597783\n",
              "Hana                     268.694444\n",
              "North Shore Kauai        277.457683\n",
              "South Kohala             300.023202\n",
              "Lahaina                  307.364236\n",
              "Koloa-Poipu              328.723214\n",
              "Ewa                      333.446154\n",
              "Name: price, dtype: float64"
            ]
          },
          "metadata": {
            "tags": []
          },
          "execution_count": 22
        }
      ]
    },
    {
      "cell_type": "markdown",
      "metadata": {
        "id": "8aL2wzcQdLG2",
        "colab_type": "text"
      },
      "source": [
        "Observa-se que os distritos Kau, Puna, South Hilo, Molokai e South Kona possuem a média de diária abaixo de 150 dólares. Dentre elas, apenas Molokai não esta localizada na Grande Ilha do Havaí. Kau em específico é conhecido por ser um local menos agitado, ao lado do Parque Nacional dos Vulcões do Havaí."
      ]
    },
    {
      "cell_type": "markdown",
      "metadata": {
        "id": "IXn2oIo5qx-w",
        "colab_type": "text"
      },
      "source": [
        "### **Q5. Qual a correlação existente entre as variáveis**\n",
        "Ao analisar os coeficientes de correlação linear entre as variáveis, é possível chegar à seguinte tabela de coeficientes:"
      ]
    },
    {
      "cell_type": "code",
      "metadata": {
        "id": "x2ayzBajqxyd",
        "colab_type": "code",
        "outputId": "727fd72d-bb65-4b75-80d4-616a9a37f747",
        "colab": {
          "base_uri": "https://localhost:8080/",
          "height": 173
        }
      },
      "source": [
        "# criar uma matriz de correlação\n",
        "corr = df_clean[['price', 'minimum_nights', 'number_of_reviews', 'reviews_per_month']].corr()\n",
        "# mostrar a matriz de correlação\n",
        "display(corr)"
      ],
      "execution_count": 0,
      "outputs": [
        {
          "output_type": "display_data",
          "data": {
            "text/html": [
              "<div>\n",
              "<style scoped>\n",
              "    .dataframe tbody tr th:only-of-type {\n",
              "        vertical-align: middle;\n",
              "    }\n",
              "\n",
              "    .dataframe tbody tr th {\n",
              "        vertical-align: top;\n",
              "    }\n",
              "\n",
              "    .dataframe thead th {\n",
              "        text-align: right;\n",
              "    }\n",
              "</style>\n",
              "<table border=\"1\" class=\"dataframe\">\n",
              "  <thead>\n",
              "    <tr style=\"text-align: right;\">\n",
              "      <th></th>\n",
              "      <th>price</th>\n",
              "      <th>minimum_nights</th>\n",
              "      <th>number_of_reviews</th>\n",
              "      <th>reviews_per_month</th>\n",
              "    </tr>\n",
              "  </thead>\n",
              "  <tbody>\n",
              "    <tr>\n",
              "      <th>price</th>\n",
              "      <td>1.000000</td>\n",
              "      <td>0.293684</td>\n",
              "      <td>-0.297682</td>\n",
              "      <td>-0.341902</td>\n",
              "    </tr>\n",
              "    <tr>\n",
              "      <th>minimum_nights</th>\n",
              "      <td>0.293684</td>\n",
              "      <td>1.000000</td>\n",
              "      <td>-0.182556</td>\n",
              "      <td>-0.291089</td>\n",
              "    </tr>\n",
              "    <tr>\n",
              "      <th>number_of_reviews</th>\n",
              "      <td>-0.297682</td>\n",
              "      <td>-0.182556</td>\n",
              "      <td>1.000000</td>\n",
              "      <td>0.627066</td>\n",
              "    </tr>\n",
              "    <tr>\n",
              "      <th>reviews_per_month</th>\n",
              "      <td>-0.341902</td>\n",
              "      <td>-0.291089</td>\n",
              "      <td>0.627066</td>\n",
              "      <td>1.000000</td>\n",
              "    </tr>\n",
              "  </tbody>\n",
              "</table>\n",
              "</div>"
            ],
            "text/plain": [
              "                      price  ...  reviews_per_month\n",
              "price              1.000000  ...          -0.341902\n",
              "minimum_nights     0.293684  ...          -0.291089\n",
              "number_of_reviews -0.297682  ...           0.627066\n",
              "reviews_per_month -0.341902  ...           1.000000\n",
              "\n",
              "[4 rows x 4 columns]"
            ]
          },
          "metadata": {
            "tags": []
          }
        }
      ]
    },
    {
      "cell_type": "code",
      "metadata": {
        "id": "91UujDr6ueqE",
        "colab_type": "code",
        "outputId": "27d5b750-1e68-497e-90eb-d8456032e1ba",
        "colab": {
          "base_uri": "https://localhost:8080/",
          "height": 357
        }
      },
      "source": [
        "# plotar um heatmap a partir das correlações\n",
        "sns.heatmap(corr, cmap='RdBu', fmt='.2f', square=True, linecolor='white', annot=True);"
      ],
      "execution_count": 0,
      "outputs": [
        {
          "output_type": "display_data",
          "data": {
            "image/png": "[encoded data removed]",
            "text/plain": [
              "<Figure size 432x288 with 2 Axes>"
            ]
          },
          "metadata": {
            "tags": []
          }
        }
      ]
    },
    {
      "cell_type": "markdown",
      "metadata": {
        "id": "M0sA-LJ0e3dv",
        "colab_type": "text"
      },
      "source": [
        "Podemos considerar que as variáveis mais correlacionadas foram: número de avaliações comparado à quantidade de avaliações por mês. Pois estas apresentaram o maior coeficiente de correlação.\n",
        "Outra correlação baixa é observada entre o valor da diária e o mínimo de noites. Indicando que o valor aumenta em imóveis que restringem um mínimo de noites mais alto."
      ]
    },
    {
      "cell_type": "markdown",
      "metadata": {
        "id": "7b6RMWpuHKN-",
        "colab_type": "text"
      },
      "source": [
        "### **Q6. Qual o tipo de imóvel mais alugado no Airbnb?**\n",
        "Os imóveis do Airbnb são categorizados em: Casa/Apto inteiro; Quarto Privado; Quarto em Hotel; Quarto compartilhado."
      ]
    },
    {
      "cell_type": "code",
      "metadata": {
        "id": "ueLPNWvPHgfB",
        "colab_type": "code",
        "outputId": "79face3d-010c-4157-f544-b858925d04b2",
        "colab": {
          "base_uri": "https://localhost:8080/",
          "height": 102
        }
      },
      "source": [
        "# mostrar a quantidade de cada tipo de imóvel disponível\n",
        "df_clean.room_type.value_counts()"
      ],
      "execution_count": 0,
      "outputs": [
        {
          "output_type": "execute_result",
          "data": {
            "text/plain": [
              "Entire home/apt    17762\n",
              "Private room        2047\n",
              "Hotel room           243\n",
              "Shared room          107\n",
              "Name: room_type, dtype: int64"
            ]
          },
          "metadata": {
            "tags": []
          },
          "execution_count": 25
        }
      ]
    },
    {
      "cell_type": "code",
      "metadata": {
        "id": "EvwoO-XAHhIm",
        "colab_type": "code",
        "outputId": "900df2f1-a79e-429a-857b-e54bdf1fc75c",
        "colab": {
          "base_uri": "https://localhost:8080/",
          "height": 102
        }
      },
      "source": [
        "# mostrar a porcentagem de cada tipo de imóvel disponível\n",
        "df_clean.room_type.value_counts() / df_clean.shape[0]"
      ],
      "execution_count": 0,
      "outputs": [
        {
          "output_type": "execute_result",
          "data": {
            "text/plain": [
              "Entire home/apt    0.881095\n",
              "Private room       0.101543\n",
              "Hotel room         0.012054\n",
              "Shared room        0.005308\n",
              "Name: room_type, dtype: float64"
            ]
          },
          "metadata": {
            "tags": []
          },
          "execution_count": 26
        }
      ]
    },
    {
      "cell_type": "markdown",
      "metadata": {
        "id": "kR4avdC1gxBb",
        "colab_type": "text"
      },
      "source": [
        "Através da análise é possível identificar que 88.11% dos imóveis cadastrados no Havaí são Casa/Apto Inteiro. Uma porcentagem alta, indicando predominância deste tipo de imóvel."
      ]
    },
    {
      "cell_type": "markdown",
      "metadata": {
        "id": "MFa5NbnLJMcd",
        "colab_type": "text"
      },
      "source": [
        "### **Q7. Qual a localidade mais cara do dataset?**\n",
        "O distrito Ewa apresenta os imóveis com valor médio mais alto: de 333.44 dólares.\n"
      ]
    },
    {
      "cell_type": "code",
      "metadata": {
        "id": "MD_xa143JZpi",
        "colab_type": "code",
        "outputId": "78a61313-299d-4427-99d5-8742d2930b6b",
        "colab": {
          "base_uri": "https://localhost:8080/",
          "height": 136
        }
      },
      "source": [
        "# ver preços por distritos, na média\n",
        "df_clean.groupby(['neighbourhood']).price.mean().sort_values(ascending=False)[:5]"
      ],
      "execution_count": 0,
      "outputs": [
        {
          "output_type": "execute_result",
          "data": {
            "text/plain": [
              "neighbourhood\n",
              "Ewa                  333.446154\n",
              "Koloa-Poipu          328.723214\n",
              "Lahaina              307.364236\n",
              "South Kohala         300.023202\n",
              "North Shore Kauai    277.457683\n",
              "Name: price, dtype: float64"
            ]
          },
          "metadata": {
            "tags": []
          },
          "execution_count": 30
        }
      ]
    },
    {
      "cell_type": "code",
      "metadata": {
        "id": "UxVJqJ_3W59I",
        "colab_type": "code",
        "outputId": "3866b8c7-5eec-413d-d543-eb140e53cf97",
        "colab": {
          "base_uri": "https://localhost:8080/",
          "height": 476
        }
      },
      "source": [
        "# plotar os imóveis pela latitude-longitude\n",
        "df_clean.plot(kind=\"scatter\", x='longitude', y='latitude', alpha=0.4, c=df_clean['price'], s=8,\n",
        "              cmap=plt.get_cmap('jet'), figsize=(12,8));"
      ],
      "execution_count": 0,
      "outputs": [
        {
          "output_type": "display_data",
          "data": {
            "image/png": "[encoded data removed]",
            "text/plain": [
              "<Figure size 864x576 with 2 Axes>"
            ]
          },
          "metadata": {
            "tags": []
          }
        }
      ]
    },
    {
      "cell_type": "markdown",
      "metadata": {
        "id": "vTneAMRUYvr1",
        "colab_type": "text"
      },
      "source": [
        "### **Q8. Qual é a média do mínimo de noites para aluguel (minimum_nights)?**"
      ]
    },
    {
      "cell_type": "code",
      "metadata": {
        "id": "_VzNhrEgY82N",
        "colab_type": "code",
        "outputId": "3a046456-d1fc-4360-e593-0a9a17875f27",
        "colab": {
          "base_uri": "https://localhost:8080/",
          "height": 34
        }
      },
      "source": [
        "# ver a média da coluna `minimum_nights`\n",
        "df_clean.minimum_nights.mean()"
      ],
      "execution_count": 0,
      "outputs": [
        {
          "output_type": "execute_result",
          "data": {
            "text/plain": [
              "2.7976090083833522"
            ]
          },
          "metadata": {
            "tags": []
          },
          "execution_count": 34
        }
      ]
    },
    {
      "cell_type": "markdown",
      "metadata": {
        "id": "Todr2poXsY2m",
        "colab_type": "text"
      },
      "source": [
        "A média é de aluguéis com mínimo de 2.8 noites. "
      ]
    },
    {
      "cell_type": "markdown",
      "metadata": {
        "id": "GkvAg623RjoR",
        "colab_type": "text"
      },
      "source": [
        "## Conclusões\n"
      ]
    },
    {
      "cell_type": "markdown",
      "metadata": {
        "id": "rbZ3Hsy9Ypw8",
        "colab_type": "text"
      },
      "source": [
        "A partir da análise de dados e tratamento de outliers, é possível observar que a média dos preços de aluguel varia conforme o distrito. Os distritos com aluguel de imóveis mais em conta estão localizados na Grande Ilha do Havaí, região do Parque Nacional dos Vulcões, região menos comercial. \\\\\n",
        "O tipo de imóvel que prevalece no Airbnb do Havaí é Casa/Apto inteiro, com porcentagem predominante. \\\\\n",
        "A média de valores de aluguel mais alta encontra-se no distrito de Ewa, na famosa praia de Ewa, condado de Honolulu (região mais populosa).\n",
        "\n"
      ]
    },
    {
      "cell_type": "code",
      "metadata": {
        "id": "R-gxO-40p48o",
        "colab_type": "code",
        "colab": {}
      },
      "source": [
        ""
      ],
      "execution_count": 0,
      "outputs": []
    }
  ]
}